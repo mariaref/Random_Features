{
 "cells": [
  {
   "cell_type": "code",
   "execution_count": 2,
   "metadata": {},
   "outputs": [],
   "source": [
    "import torch\n",
    "import torch.nn.functional as F\n",
    "import torch.nn as nn\n",
    "import numpy as np\n",
    "import matplotlib.pyplot as plt\n",
    "import pandas as pd\n",
    "from collections import defaultdict"
   ]
  },
  {
   "cell_type": "markdown",
   "metadata": {},
   "source": [
    "# Ensembling"
   ]
  },
  {
   "cell_type": "code",
   "execution_count": 3,
   "metadata": {},
   "outputs": [
    {
     "name": "stdout",
     "output_type": "stream",
     "text": [
      "0 1 2 3 4 5 6 7 8 9 10 11 12 13 14 15 16 17 18 19 "
     ]
    }
   ],
   "source": [
    "ratio_list = np.logspace(-1,1,20)\n",
    "tau = 0.1\n",
    "D = 100\n",
    "psi2 = 1.\n",
    "K = 100\n",
    "lam = 0.0001\n",
    "K_list = [1,2,10]\n",
    "\n",
    "mu0=1/np.sqrt(2*np.pi)\n",
    "act = lambda x : F.relu(x) - mu0\n",
    "\n",
    "dic = defaultdict(list)\n",
    "dic['psi1/psi2']=np.log10(ratio_list)\n",
    "\n",
    "for i, ratio in enumerate(ratio_list):\n",
    "    print(i,end=' ')\n",
    "\n",
    "    psi1=ratio*psi2\n",
    "    P = int(D * psi1)\n",
    "    N = int(D * psi2)\n",
    "\n",
    "\n",
    "    X = torch.randn((N,D))\n",
    "    teacher = torch.randn((D,))\n",
    "    y = X @ teacher / D**0.5 + tau * torch.randn((N,))\n",
    "\n",
    "    rf = torch.randn((K,D,P))\n",
    "    a = torch.randn((K,P))\n",
    "\n",
    "    for k in range(K):\n",
    "        Z = act(X @ rf[k] / D**0.5) / D**0.5\n",
    "        a[k] = y @ Z @ torch.pinverse(Z.t() @ Z + psi1 * psi2 * lam * torch.eye(P))\n",
    "            \n",
    "    ypred = torch.einsum('knp,kp->kn',(act(X @ rf / D**0.5) / D**0.5,a))\n",
    "    error = (ypred-y).pow(2).mean()\n",
    "    tr_error = (ypred-y).mean(0).pow(2).mean()\n",
    "    dic['tr_error'].append(tr_error.item())\n",
    "    \n",
    "    def test(k):\n",
    "        te_errors = []\n",
    "        for ik in range(int(K/k)):\n",
    "            X = torch.randn((N,D))\n",
    "            y = X @ teacher / D**0.5 + tau * torch.randn((N,))\n",
    "            ypred = torch.einsum('knp,kp->kn',(act(X @ rf[k*ik:k*(ik+1)] / D**0.5) / D**0.5, a[k*ik:k*(ik+1)]))\n",
    "            te_error = (ypred-y).mean(0).pow(2).mean()\n",
    "            te_errors.append(te_error.item())\n",
    "        return np.mean(te_errors), np.std(te_errors)\n",
    "            \n",
    "    for k in K_list:\n",
    "        mean, std = test(k)\n",
    "        dic[k].append([mean,std])\n",
    "    dic['norm'].append(a.norm(1).mean(0))\n",
    "    dic['fluct'].append(a.std(1).mean(0))\n",
    "        \n",
    "df=pd.DataFrame.from_dict(dic)\n",
    "df.to_csv('error.csv',index=False)"
   ]
  },
  {
   "cell_type": "code",
   "execution_count": 6,
   "metadata": {},
   "outputs": [
    {
     "name": "stdout",
     "output_type": "stream",
     "text": [
      "1\n",
      "2\n",
      "10\n"
     ]
    },
    {
     "data": {
      "text/plain": [
       "<matplotlib.legend.Legend at 0x128b024a8>"
      ]
     },
     "execution_count": 6,
     "metadata": {},
     "output_type": "execute_result"
    },
    {
     "data": {
      "image/png": "[encoded data removed]",
      "text/plain": [
       "<Figure size 432x288 with 1 Axes>"
      ]
     },
     "metadata": {
      "needs_background": "light"
     },
     "output_type": "display_data"
    }
   ],
   "source": [
    "dic = pd.read_csv('error.csv')\n",
    "for k in dic:\n",
    "    try: print(int(k))\n",
    "    except: continue\n",
    "    vals = []\n",
    "    errors = []\n",
    "    for x in dic[k]:\n",
    "        vals.append(eval(x)[0])\n",
    "        errors.append(eval(x)[1])\n",
    "    plt.errorbar(dic['psi1/psi2'], vals, errors, label='K=%d'%eval(k))\n",
    "\n",
    "plt.plot(dic['psi1/psi2'], dic['tr_error'], label='Train Error')\n",
    "plt.legend()"
   ]
  },
  {
   "cell_type": "code",
   "execution_count": null,
   "metadata": {},
   "outputs": [],
   "source": []
  }
 ],
 "metadata": {
  "kernelspec": {
   "display_name": "Python 3",
   "language": "python",
   "name": "python3"
  },
  "language_info": {
   "codemirror_mode": {
    "name": "ipython",
    "version": 3
   },
   "file_extension": ".py",
   "mimetype": "text/x-python",
   "name": "python",
   "nbconvert_exporter": "python",
   "pygments_lexer": "ipython3",
   "version": "3.7.3"
  }
 },
 "nbformat": 4,
 "nbformat_minor": 4
}
